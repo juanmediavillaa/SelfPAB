{
 "cells": [
  {
   "cell_type": "markdown",
   "id": "f0a993e2-aaf1-454b-9ec9-f37b6a359ddc",
   "metadata": {},
   "source": [
    "# Plot downstream LOSO results"
   ]
  },
  {
   "cell_type": "markdown",
   "id": "c0736903-6ff4-4a69-9518-c7ee01bd2202",
   "metadata": {},
   "source": [
    "## Imports and Functions"
   ]
  },
  {
   "cell_type": "code",
   "execution_count": 1,
   "id": "fbdf9af9-6b87-4ccc-8eea-331d7388f1c7",
   "metadata": {},
   "outputs": [],
   "source": [
    "import os\n",
    "import cmat\n",
    "import pickle\n",
    "import pandas as pd\n",
    "import numpy as np\n",
    "from scipy import stats\n",
    "from matplotlib import pyplot as plt\n",
    "from mpl_toolkits.axes_grid1 import AxesGrid\n",
    "plt.style.use('seaborn-v0_8')\n",
    "\n",
    "def get_summarized_results(res_to_plot, combined_classes=None):\n",
    "    summed_cmats = {}\n",
    "    norm_summed_cmats = {}\n",
    "    results = {}\n",
    "    activity_results = {}\n",
    "    CV_res = {}\n",
    "    for model_name, res_dict in res_to_plot.items():\n",
    "        res_path = res_dict['res_path']\n",
    "        res_folds = res_dict['folds'] if 'folds' in res_dict else None\n",
    "        fold_cmats = {}\n",
    "        _summed_cmats = []\n",
    "        subj_cmat_names = [x for x in os.listdir(res_path) if 'best_args' not in x]\n",
    "        for subj_cmat_name in subj_cmat_names:\n",
    "            with open(os.path.join(res_path,subj_cmat_name), 'rb') as f:\n",
    "                pickle_file = pickle.load(f)\n",
    "                if len(pickle_file)==3:\n",
    "                    _args, _cmats, _sids = pickle_file \n",
    "                else:\n",
    "                    _args, _cmats = pickle_file\n",
    "                    _sids = range(len(_cmats))\n",
    "                ################################################################\n",
    "                if combined_classes:\n",
    "                    #print(f'DO CLASS REPLACEMENT WITH: {combined_classes}')\n",
    "                    _new_cmats = {}\n",
    "                    _sids = [item for row in _sids for item in row] if type(_sids[0])==list else _sids\n",
    "                    cmat_iterator = _cmats.items() if type(_cmats)==dict else zip(_sids,_cmats)\n",
    "                    for _sid, _c in cmat_iterator:\n",
    "                        new_cm_df = _c.cmat.copy()\n",
    "                        for new_cl, classes in combined_classes.items():\n",
    "                            if not all([c in new_cm_df.columns for c in classes]):\n",
    "                                #print(f'{classes} not in cmats. Pass...')\n",
    "                                continue\n",
    "                            new_cm_df.loc[new_cl] = new_cm_df.loc[classes].sum()\n",
    "                            new_cm_df[new_cl] = new_cm_df[classes].sum(axis=1)\n",
    "                            classes_to_remove = classes.copy()\n",
    "                            try:\n",
    "                                classes_to_remove.remove(new_cl)\n",
    "                            except ValueError:\n",
    "                                pass\n",
    "                            new_cm_df = new_cm_df.drop(classes_to_remove,axis=1)\n",
    "                            new_cm_df = new_cm_df.drop(classes_to_remove,axis=0)\n",
    "                        _new_cmats[_sid] = cmat.ConfusionMatrix(new_cm_df)\n",
    "                    _cmats = _new_cmats\n",
    "                ################################################################\n",
    "                if type(_cmats)==dict:\n",
    "                    _summed_cmats += [c for c in _cmats.values()]\n",
    "                else:\n",
    "                    _summed_cmats += _cmats\n",
    "            if res_folds:\n",
    "                for fold_num, fold_subjects in enumerate(res_folds):\n",
    "                    if subj_cmat_name.replace('_cmat.pkl','') in fold_subjects:\n",
    "                        if fold_num not in fold_cmats:\n",
    "                            fold_cmats[fold_num] = [_cmats]\n",
    "                        else:\n",
    "                            fold_cmats[fold_num].append(_cmats)\n",
    "                CV_res[model_name] = {\n",
    "                    'MeanCVF1': np.mean([np.mean([list(x.values())[0].average_f1score for x in fold_cmats[y]]) for y in fold_cmats]),\n",
    "                    'StdCVF1':  np.std([np.mean([list(x.values())[0].average_f1score for x in fold_cmats[y]]) for y in fold_cmats]),\n",
    "                    'MeanCVSensitivity': np.mean([np.mean([list(x.values())[0].average_recall for x in fold_cmats[y]]) for y in fold_cmats]),\n",
    "                    'StdCVSensitivity':  np.std([np.mean([list(x.values())[0].average_recall for x in fold_cmats[y]]) for y in fold_cmats]),\n",
    "                    'MeanCVPrecision': np.mean([np.mean([list(x.values())[0].average_precision for x in fold_cmats[y]]) for y in fold_cmats]),\n",
    "                    'StdCVPrecision':  np.std([np.mean([list(x.values())[0].average_precision for x in fold_cmats[y]]) for y in fold_cmats]),\n",
    "                    'MeanCVAccuracy': np.mean([np.mean([list(x.values())[0].accuracy for x in fold_cmats[y]]) for y in fold_cmats]),\n",
    "                    'StdCVAccuracy':  np.std([np.mean([list(x.values())[0].accuracy for x in fold_cmats[y]]) for y in fold_cmats])\n",
    "                    }\n",
    "        # Summed cmat\n",
    "        summed_cmats[model_name] = cmat.ConfusionMatrix(sum(c.cmat for c in _summed_cmats)).cmat\n",
    "        norm_summed_cmats[model_name] = cmat.ConfusionMatrix(sum(c.cmat for c in _summed_cmats)).normalize(mode='recall').cmat\n",
    "        # Activity results\n",
    "        activity_results[model_name] = pd.concat({\n",
    "            'MeanF1': pd.concat([c.f1score for c in _summed_cmats],axis=1).mean(axis=1),\n",
    "            'StdF1': pd.concat([c.f1score for c in _summed_cmats],axis=1).std(axis=1),\n",
    "            'SemF1': pd.concat([c.f1score for c in _summed_cmats],axis=1).sem(axis=1),\n",
    "            'MinF1': pd.concat([c.f1score for c in _summed_cmats],axis=1).min(axis=1),\n",
    "            'MaxF1': pd.concat([c.f1score for c in _summed_cmats],axis=1).max(axis=1),\n",
    "            'MeanSensitivity': pd.concat([c.recall for c in _summed_cmats],axis=1).mean(axis=1),\n",
    "            'StdSensitivity':  pd.concat([c.recall for c in _summed_cmats],axis=1).std(axis=1),\n",
    "            'MinSensitivity':  pd.concat([c.recall for c in _summed_cmats],axis=1).min(axis=1),\n",
    "            'MaxSensitivity':  pd.concat([c.recall for c in _summed_cmats],axis=1).max(axis=1),\n",
    "            'MeanPrecision': pd.concat([c.precision for c in _summed_cmats],axis=1).mean(axis=1),\n",
    "            'StdPrecision':  pd.concat([c.precision for c in _summed_cmats],axis=1).std(axis=1),\n",
    "            'MinPrecision':  pd.concat([c.precision for c in _summed_cmats],axis=1).min(axis=1),\n",
    "            'MaxPrecision':  pd.concat([c.precision for c in _summed_cmats],axis=1).max(axis=1),\n",
    "        }, axis=1)\n",
    "        # Combined actvitities results\n",
    "        results[model_name] = {\n",
    "            'MeanF1': np.mean([c.average_f1score for c in _summed_cmats]),\n",
    "            'StdF1': np.std([c.average_f1score for c in _summed_cmats]),\n",
    "            'SemF1': stats.sem([c.average_f1score for c in _summed_cmats]),\n",
    "            'MinF1': np.min([c.average_f1score for c in _summed_cmats]),\n",
    "            'MaxF1': np.max([c.average_f1score for c in _summed_cmats]),\n",
    "            'MeanSensitivity': np.mean([c.average_recall for c in _summed_cmats]),\n",
    "            'StdSensitivity':  np.std([c.average_recall for c in _summed_cmats]),\n",
    "            'MinSensitivity':  np.min([c.average_recall for c in _summed_cmats]),\n",
    "            'MaxSensitivity':  np.max([c.average_recall for c in _summed_cmats]),\n",
    "            'MeanPrecision': np.mean([c.average_precision for c in _summed_cmats]),\n",
    "            'StdPrecision':  np.std([c.average_precision for c in _summed_cmats]),\n",
    "            'MinPrecision':  np.min([c.average_precision for c in _summed_cmats]),\n",
    "            'MaxPrecision':  np.max([c.average_precision for c in _summed_cmats]),\n",
    "            'MeanAccuracy': np.mean([c.accuracy for c in _summed_cmats]),\n",
    "            'StdAccuracy':  np.std([c.accuracy for c in _summed_cmats]),\n",
    "            'MinAccuracy':  np.min([c.accuracy for c in _summed_cmats]),\n",
    "            'MaxAccuracy':  np.max([c.accuracy for c in _summed_cmats]),\n",
    "        }\n",
    "    results = pd.DataFrame(results)\n",
    "    CV_res = pd.DataFrame(CV_res)\n",
    "    return results, CV_res, activity_results, summed_cmats, norm_summed_cmats, _summed_cmats\n",
    "\n",
    "def plot_metrics(res_to_plot, metric='F1', title='', _combine_classes=None):\n",
    "    res, _, _, _, _, _ = get_summarized_results(res_to_plot, combined_classes=_combine_classes)\n",
    "    res.T.plot(kind='bar',y=f'Mean{metric}',yerr=f'Std{metric}', title=title)\n",
    "\n",
    "def specificity(_cmat):\n",
    "    cmat_arr = _cmat.cmat.values\n",
    "    TN = cmat_arr[0,0]\n",
    "    FP = cmat_arr[0,1]\n",
    "    return TN/(TN+FP)\n",
    "\n",
    "def sensitivity(_cmat):\n",
    "    cmat_arr = _cmat.cmat.values\n",
    "    TP = cmat_arr[1,1]\n",
    "    FN = cmat_arr[1,0]\n",
    "    return TP/(TP+FN)\n",
    "\n",
    "# Background for confusion matrix\n",
    "fig_facecolor = '#ffffff'\n",
    "\n",
    "# Heatmap colors for plotting\n",
    "#heatmapss = ['Accent', 'Accent_r', 'Blues', 'Blues_r', 'BrBG', 'BrBG_r', 'BuGn', 'BuGn_r', 'BuPu', 'BuPu_r', 'CMRmap', 'CMRmap_r', 'Dark2', 'Dark2_r', 'GnBu', 'GnBu_r', 'Greens', 'Greens_r', 'Greys', 'Greys_r', 'OrRd', 'OrRd_r', 'Oranges', 'Oranges_r', 'PRGn', 'PRGn_r', 'Paired', 'Paired_r', 'Pastel1', 'Pastel1_r', 'Pastel2', 'Pastel2_r', 'PiYG', 'PiYG_r', 'PuBu', 'PuBuGn', 'PuBuGn_r', 'PuBu_r', 'PuOr', 'PuOr_r', 'PuRd', 'PuRd_r', 'Purples', 'Purples_r', 'RdBu', 'RdBu_r', 'RdGy', 'RdGy_r', 'RdPu', 'RdPu_r', 'RdYlBu', 'RdYlBu_r', 'RdYlGn', 'RdYlGn_r', 'Reds', 'Reds_r', 'Set1', 'Set1_r', 'Set2', 'Set2_r', 'Set3', 'Set3_r', 'Spectral', 'Spectral_r', 'Wistia', 'Wistia_r', 'YlGn', 'YlGnBu', 'YlGnBu_r', 'YlGn_r', 'YlOrBr', 'YlOrBr_r', 'YlOrRd', 'YlOrRd_r', 'afmhot', 'afmhot_r', 'autumn', 'autumn_r', 'binary', 'binary_r', 'bone', 'bone_r', 'brg', 'brg_r', 'bwr', 'bwr_r', 'cividis', 'cividis_r', 'cool', 'cool_r', 'coolwarm', 'coolwarm_r', 'copper', 'copper_r', 'cubehelix', 'cubehelix_r', 'flag', 'flag_r', 'gist_earth', 'gist_earth_r', 'gist_gray', 'gist_gray_r', 'gist_heat', 'gist_heat_r', 'gist_ncar', 'gist_ncar_r', 'gist_rainbow', 'gist_rainbow_r', 'gist_stern', 'gist_stern_r', 'gist_yarg', 'gist_yarg_r', 'gnuplot', 'gnuplot2', 'gnuplot2_r', 'gnuplot_r', 'gray', 'gray_r', 'hot', 'hot_r', 'hsv', 'hsv_r', 'inferno', 'inferno_r', 'jet', 'jet_r', 'magma', 'magma_r', 'nipy_spectral', 'nipy_spectral_r', 'ocean', 'ocean_r', 'pink', 'pink_r', 'plasma', 'plasma_r', 'prism', 'prism_r', 'rainbow', 'rainbow_r', 'seismic', 'seismic_r', 'spring', 'spring_r', 'summer', 'summer_r', 'tab10', 'tab10_r', 'tab20', 'tab20_r', 'tab20b', 'tab20b_r', 'tab20c', 'tab20c_r', 'terrain', 'terrain_r', 'turbo', 'turbo_r', 'twilight', 'twilight_r', 'twilight_shifted', 'twilight_shifted_r', 'viridis', 'viridis_r', 'winter', 'winter_r']\n",
    "heatmap_cmap = 'Blues_r'\n",
    "heatmap_edge_color = '#f7f7f7'\n",
    "# Font color\n",
    "heatmap_font_color = 'k'\n",
    "\n",
    "# Try to get the matplotlib pyplot object, handle import error\n",
    "def pyplot():\n",
    "    try:\n",
    "        import matplotlib.pyplot as plt \n",
    "        return plt\n",
    "    except ImportError:\n",
    "        raise ImportError( 'Could not get pyplot object: matplotlib is not installed' )\n",
    "\n",
    "def plot(selfcmat, ax=None, title=None, plot_text=None, savefig=False, normalize_cmat=True,\n",
    "         colorbar=True, ylabel=True, xlabel=True,figg=None, axx=None, dropna=False):\n",
    "    '''\n",
    "    Plot a confusiono matrix \n",
    "    '''\n",
    "    plt = pyplot()\n",
    "    plt.rcParams.update({'font.size': 18})\n",
    "    plt.rc('axes', labelsize=18)     # fontsize of the axes title\n",
    "    plt.rc('xtick', labelsize=14)    # fontsize of the tick labels\n",
    "    plt.rc('ytick', labelsize=14)    # fontsize of the tick labels\n",
    "    #plt.rc('legend', fontsize=14)    # legend fontsize\n",
    "    fig = figg\n",
    "    ax = axx \n",
    "    fig.patch.set_facecolor( fig_facecolor )\n",
    "    for spine in ax.spines.values():\n",
    "        spine.set_visible(False)\n",
    "    cmat_df = selfcmat\n",
    "    if dropna:\n",
    "        cmat_df = cmat_df.dropna()\n",
    "    heatmap = ax.pcolor(cmat_df[::-1], cmap=heatmap_cmap, edgecolor=heatmap_edge_color, linewidth=1 )\n",
    "    \n",
    "    H, W = fig.get_size_inches()*fig.dpi*10\n",
    "    M, N = cmat_df.shape\n",
    "    dpr  = min( H/M, W/N, 50 )*1\n",
    "    plot_text = dpr > 20 if plot_text is None else plot_text\n",
    "    # floating  = not any( 'int' in str(dtype) for dtype in selfcmat.cmat.dtypes )\n",
    "    floating = False\n",
    "    if plot_text:\n",
    "        for (i,j),v in np.ndenumerate( cmat_df.values ):\n",
    "            #text = '.%.0f'%(v*100) if floating else str(v)\n",
    "            #print('Create text for cell: ', (i,j), ' Text:',v)\n",
    "            if normalize_cmat:\n",
    "                text = str(round(v,2))[1:] if round(v,2)!=1.0 else '1.0'\n",
    "            else:\n",
    "                text = str(v)\n",
    "            #if text == 'an':\n",
    "            #    breakpoint()\n",
    "            ax.text(j+0.5, M-i-0.5, text, fontsize=12*dpr/40, \n",
    "                    va='center', ha='center', color=heatmap_font_color, alpha=0.7 )\n",
    "    \n",
    "    ax.set_title( title or 'Confusion Matrix')\n",
    "    if ylabel:\n",
    "        ax.set_yticks( np.arange( 0.5, len(cmat_df.index), 1) )\n",
    "        ax.set_yticklabels( cmat_df.index[::-1], minor=False )\n",
    "        ax.set_ylabel( 'Ground Truth' )\n",
    "    else:\n",
    "        ax.yaxis.set_visible(False)\n",
    "    if xlabel:\n",
    "        print('xlabel')\n",
    "        ax.set_xlabel( 'Predicted' )\n",
    "        ax.set_xticks( np.arange(0.5, len(cmat_df.columns), 1) )\n",
    "        ax.set_xticklabels( cmat_df.columns, minor=False, rotation=90)\n",
    "        ax.xaxis.set_label_position( 'top' )\n",
    "        ax.xaxis.tick_top()\n",
    "    else:\n",
    "        ax.xaxis.set_visible(False)\n",
    "    #ax.set_aspect( 'equal' )\n",
    "    #if colorbar:\n",
    "    #    plt.colorbar( heatmap, ax=axx ,fraction=0.05, pad=0.03)\n",
    "    if savefig:\n",
    "        #fig.savefig(title+'.pdf', bbox_inches='tight')\n",
    "        fig.savefig('test.pdf', bbox_inches='tight')\n",
    "    return heatmap\n",
    "\n",
    "def summary(res_to_plot, _combine_classes=None):\n",
    "    _, _, _, _, norm_summed_cmats, _ = get_summarized_results(res_to_plot, combined_classes=_combine_classes)\n",
    "    summed_cmats = norm_summed_cmats\n",
    "    figg = plt.figure(figsize=(9*len(summed_cmats)+1,18))\n",
    "    grid = AxesGrid(figg,111,\n",
    "                    nrows_ncols=(len(summed_cmats), 1),\n",
    "                    axes_pad=0.4,\n",
    "                    cbar_mode='single',\n",
    "                    cbar_location='right',\n",
    "                    cbar_pad=0.1,\n",
    "                    cbar_size='1%',\n",
    "                    label_mode='all'\n",
    "                    )\n",
    "    for ii, (mdl_name, mdl_cmat) in enumerate(summed_cmats.items()):\n",
    "        mdl_cmat = mdl_cmat.rename(columns={'N1': 'sleep'}, index={'N1': 'sleep'})\n",
    "        hp = plot(mdl_cmat,title=mdl_name,savefig=False,\n",
    "             colorbar=False,ylabel=ii in [0,1,2,3], xlabel=ii in [0],\n",
    "             figg=figg, axx=grid[ii], normalize_cmat=True)\n",
    "\n",
    "    #cbar = figg.colorbar( hp, ax=axxs.ravel().tolist(), fraction=0.05, pad=1, orientation=\"vertical\")\n",
    "    cbar = grid[-1].cax.colorbar(hp)\n",
    "    cbar = grid.cbar_axes[0].colorbar(hp)\n",
    "    plt.show()\n",
    "    for mdl_name, _cmat in summed_cmats.items():\n",
    "        _cmat = cmat.ConfusionMatrix(_cmat)\n",
    "        df = pd.DataFrame([_cmat.precision, _cmat.recall, _cmat.f1score], index=['precision','recall','f1'])\n",
    "        display(mdl_name)\n",
    "        display(df.transpose())"
   ]
  },
  {
   "cell_type": "markdown",
   "id": "6f630b56-352d-4ef7-a080-9a9155098c86",
   "metadata": {},
   "source": [
    "## Put here the name of the method and the path to loso_cmats"
   ]
  },
  {
   "cell_type": "code",
   "execution_count": null,
   "id": "c812bd92-daee-40e7-b25d-403250aa64f8",
   "metadata": {},
   "outputs": [],
   "source": [
    "res_to_plot = {\n",
    "    'SelfPAB (HARTH)' : {'res_path': 'params/selfPAB_downstream_experiments/selfPAB_downstream_harth/loso_cmats/'},\n",
    "}"
   ]
  },
  {
   "cell_type": "markdown",
   "id": "61a8a187-6c57-437e-b125-e209ca88a459",
   "metadata": {},
   "source": [
    "## Put here classes that need to be combined. Set combine_classes=None if nothing to combine"
   ]
  },
  {
   "cell_type": "code",
   "execution_count": null,
   "id": "b9e229d5-eb86-4af8-98ce-05f0b18a8a0d",
   "metadata": {},
   "outputs": [],
   "source": [
    "#combine_classes = None\n",
    "combine_classes = {'cycling (sit)': ['cycling (sit)', 'cycling (sit, inactive)'],\n",
    "                   'cycling (stand)': ['cycling (stand)', 'cycling (stand, inactive)']}"
   ]
  },
  {
   "cell_type": "markdown",
   "id": "2c14e1a6-6f92-40f2-8a32-44fb83a3c5ad",
   "metadata": {},
   "source": [
    "## CMAT & Metrics for each activty:"
   ]
  },
  {
   "cell_type": "code",
   "execution_count": null,
   "id": "bc1b49bb-216a-4f4b-a273-19d51428f8eb",
   "metadata": {},
   "outputs": [],
   "source": [
    "summary(res_to_plot, _combine_classes=combine_classes)"
   ]
  },
  {
   "cell_type": "markdown",
   "id": "48f162e9-a169-45d3-9099-819053e91318",
   "metadata": {},
   "source": [
    "## Bar plot for average given metric"
   ]
  },
  {
   "cell_type": "code",
   "execution_count": null,
   "id": "72034e39-394b-4bc1-8456-8b2fbd3ee5e3",
   "metadata": {},
   "outputs": [],
   "source": [
    "plot_metrics(res_to_plot, metric='F1', _combine_classes=combine_classes)"
   ]
  },
  {
   "cell_type": "markdown",
   "id": "d3e1026d-6f2f-45a7-ab36-d46a5e491029",
   "metadata": {},
   "source": [
    "## Raw results for more details"
   ]
  },
  {
   "cell_type": "code",
   "execution_count": null,
   "id": "13a9d467-7d6d-4b8d-9a5c-f7fe4f21969a",
   "metadata": {},
   "outputs": [],
   "source": [
    "res, _, act_res, summed_cmats, norm_summed_cmats, _summed_cmats = get_summarized_results(res_to_plot, combined_classes=combine_classes)\n",
    "res"
   ]
  },
  {
   "cell_type": "code",
   "execution_count": null,
   "id": "e1b63f91-44ff-4ad3-b05a-e6f18ce1cae9",
   "metadata": {},
   "outputs": [],
   "source": []
  },
  {
   "cell_type": "markdown",
   "id": "9bd22988-24ef-4011-8ce3-9eee1d38148d",
   "metadata": {},
   "source": [
    "# Plot downstream 5-fold CV results"
   ]
  },
  {
   "cell_type": "markdown",
   "id": "99b35206-a839-48ea-ae7a-8b184c306f95",
   "metadata": {},
   "source": [
    "## Put here the name of the method, the path to CV_folds5_cmats, and the files used per fold"
   ]
  },
  {
   "cell_type": "code",
   "execution_count": null,
   "id": "b1025eae-ce14-45f0-8a17-a8bbc5d8bc5b",
   "metadata": {},
   "outputs": [],
   "source": [
    "res_to_plot = {\n",
    "    'MonoSelfPAB (USC-HAD)' : {'res_path': 'params/MonoSelfPAB_downstream_experiments/MonoSelfPAB_downstream_uschad/CV_folds5_cmats/',\n",
    "                               'folds': [['Subject9', 'Subject11', 'Subject7'],['Subject6', 'Subject3', 'Subject4'],['Subject8', 'Subject12', 'Subject1'],['Subject13', 'Subject2', 'Subject14'],['Subject5', 'Subject10']]},\n",
    "}"
   ]
  },
  {
   "cell_type": "code",
   "execution_count": null,
   "id": "a485043e-f94b-4403-ae1f-812329873b9e",
   "metadata": {},
   "outputs": [],
   "source": [
    "combine_classes = None"
   ]
  },
  {
   "cell_type": "code",
   "execution_count": null,
   "id": "9aa798ce-6141-4d27-bfde-ca0118301ed6",
   "metadata": {},
   "outputs": [],
   "source": [
    "summary(res_to_plot, _combine_classes=combine_classes)"
   ]
  },
  {
   "cell_type": "code",
   "execution_count": null,
   "id": "d685d6d5-77c9-4f8d-8a59-a3c03e8048e1",
   "metadata": {},
   "outputs": [],
   "source": [
    "plot_metrics(res_to_plot, metric='F1', _combine_classes=combine_classes)"
   ]
  },
  {
   "cell_type": "code",
   "execution_count": null,
   "id": "f3d44e0f-2fdb-43fc-85db-4dfd4bc2e1ef",
   "metadata": {},
   "outputs": [],
   "source": [
    "res, _, act_res, summed_cmats, norm_summed_cmats, _summed_cmats = get_summarized_results(res_to_plot, combined_classes=combine_classes)\n",
    "res"
   ]
  }
 ],
 "metadata": {
  "kernelspec": {
   "display_name": "venv_selfpab",
   "language": "python",
   "name": "venv_selfpab"
  },
  "language_info": {
   "codemirror_mode": {
    "name": "ipython",
    "version": 3
   },
   "file_extension": ".py",
   "mimetype": "text/x-python",
   "name": "python",
   "nbconvert_exporter": "python",
   "pygments_lexer": "ipython3",
   "version": "3.8.10"
  }
 },
 "nbformat": 4,
 "nbformat_minor": 5
}
